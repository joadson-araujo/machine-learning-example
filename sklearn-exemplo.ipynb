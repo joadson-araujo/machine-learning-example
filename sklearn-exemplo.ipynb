{
  "nbformat": 4,
  "nbformat_minor": 0,
  "metadata": {
    "colab": {
      "name": "Untitled3.ipynb",
      "provenance": [],
      "authorship_tag": "ABX9TyOOdEJ6sXzeLOCrn2K7jeSi"
    },
    "kernelspec": {
      "name": "python3",
      "display_name": "Python 3"
    },
    "language_info": {
      "name": "python"
    }
  },
  "cells": [
    {
      "cell_type": "markdown",
      "metadata": {
        "id": "uAawl3hOsGSQ"
      },
      "source": [
        "#Exemplo de Treino x Teste - Modelo de Machine Learning usando a Biblioteca ExtraTreesClassifier do SKLEARN aplicado a uma determinada base de dados\n"
      ]
    },
    {
      "cell_type": "code",
      "metadata": {
        "id": "d1qqMZLlkHZp"
      },
      "source": [
        "#coluna target será a style\n",
        "#necessário upload do arquivo - disponível em https://www.kaggle.com/sgus1318/winedata\n",
        "dados = pd.read_csv('wine_dataset.csv')"
      ],
      "execution_count": null,
      "outputs": []
    },
    {
      "cell_type": "code",
      "metadata": {
        "id": "3fGXHwSzu5Dh"
      },
      "source": [
        "dados.describe()"
      ],
      "execution_count": null,
      "outputs": []
    },
    {
      "cell_type": "code",
      "metadata": {
        "id": "R5CHSIKLwczE"
      },
      "source": [
        "#pre-processamento\n",
        "\n",
        "dados['style'] = dados['style'].replace('red', 0)\n",
        "dados['style'] = dados['style'].replace('white', 1)"
      ],
      "execution_count": null,
      "outputs": []
    },
    {
      "cell_type": "code",
      "metadata": {
        "id": "NEBQkGDdxYQx"
      },
      "source": [
        "#separar variaveis preditoras do alvo\n",
        "x = dados.drop('style', axis=1) #axis 1 colunas\n",
        "y = dados['style']"
      ],
      "execution_count": null,
      "outputs": []
    },
    {
      "cell_type": "code",
      "metadata": {
        "id": "jgoM7lZlzOj3"
      },
      "source": [
        "# 70% x 30%\n",
        "from sklearn.model_selection import train_test_split\n"
      ],
      "execution_count": null,
      "outputs": []
    },
    {
      "cell_type": "code",
      "metadata": {
        "id": "lBsm5uEf1N7-"
      },
      "source": [
        "#para o x, separou 70%, para o y, 30%\n",
        "x_treino, x_teste, y_treino, y_teste = train_test_split(x,y,test_size=0.3)"
      ],
      "execution_count": null,
      "outputs": []
    },
    {
      "cell_type": "code",
      "metadata": {
        "id": "fTGLx2NS11dM"
      },
      "source": [
        "from sklearn.ensemble import ExtraTreesClassifier"
      ],
      "execution_count": null,
      "outputs": []
    },
    {
      "cell_type": "code",
      "metadata": {
        "id": "ikZc74Gr2GLT"
      },
      "source": [
        "modelo = ExtraTreesClassifier()"
      ],
      "execution_count": null,
      "outputs": []
    },
    {
      "cell_type": "code",
      "metadata": {
        "colab": {
          "base_uri": "https://localhost:8080/"
        },
        "id": "etBtuZ2Z2b63",
        "outputId": "b107d510-5b0e-4e6f-d9bb-7add48bba8b6"
      },
      "source": [
        "modelo.fit(x_treino, y_treino) #treina os dados (metodo supervisionado)"
      ],
      "execution_count": null,
      "outputs": [
        {
          "output_type": "execute_result",
          "data": {
            "text/plain": [
              "ExtraTreesClassifier()"
            ]
          },
          "metadata": {},
          "execution_count": 60
        }
      ]
    },
    {
      "cell_type": "code",
      "metadata": {
        "colab": {
          "base_uri": "https://localhost:8080/"
        },
        "id": "c6zgM7iw3BZr",
        "outputId": "0e1a7450-cfe2-4a3a-dac9-38838261beb9"
      },
      "source": [
        "#validacao dos resultados\n",
        "acuracia = modelo.score(x_teste, y_teste)\n",
        "acuracia"
      ],
      "execution_count": null,
      "outputs": [
        {
          "output_type": "execute_result",
          "data": {
            "text/plain": [
              "0.9974358974358974"
            ]
          },
          "metadata": {},
          "execution_count": 61
        }
      ]
    },
    {
      "cell_type": "code",
      "metadata": {
        "colab": {
          "base_uri": "https://localhost:8080/"
        },
        "id": "B3bSdSgp3bqR",
        "outputId": "ff3eec5a-d4d2-41f1-9f43-75c266945519"
      },
      "source": [
        "#previsao\n",
        "previsao = modelo.predict(x_teste) #pega novos dados e joga dentro do modelo treinado\n",
        "previsao"
      ],
      "execution_count": null,
      "outputs": [
        {
          "output_type": "execute_result",
          "data": {
            "text/plain": [
              "array([0, 1, 0, ..., 1, 1, 1])"
            ]
          },
          "metadata": {},
          "execution_count": 62
        }
      ]
    },
    {
      "cell_type": "code",
      "metadata": {
        "colab": {
          "base_uri": "https://localhost:8080/"
        },
        "id": "62GP1fKj3-UT",
        "outputId": "371f005f-94af-4c3a-81a5-e49cc74db5fe"
      },
      "source": [
        "#matriz de confusao\n",
        "from sklearn.metrics import confusion_matrix\n",
        "mc = confusion_matrix(y_teste, previsao)\n",
        "mc"
      ],
      "execution_count": null,
      "outputs": [
        {
          "output_type": "execute_result",
          "data": {
            "text/plain": [
              "array([[ 468,    2],\n",
              "       [   3, 1477]])"
            ]
          },
          "metadata": {},
          "execution_count": 63
        }
      ]
    },
    {
      "cell_type": "code",
      "metadata": {
        "id": "v3a5J9yP4PQl"
      },
      "source": [
        ""
      ],
      "execution_count": null,
      "outputs": []
    }
  ]
}
